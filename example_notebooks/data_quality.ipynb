{
 "cells": [
  {
   "cell_type": "code",
   "execution_count": 1,
   "id": "046c59c4",
   "metadata": {},
   "outputs": [],
   "source": [
    "from nlpsandboxclient import client\n"
   ]
  },
  {
   "cell_type": "code",
   "execution_count": 2,
   "id": "17ace47d",
   "metadata": {},
   "outputs": [],
   "source": [
    "#data_node_host = \"http://data-node-nginx:8080/api/v1\"\n",
    "data_node_host = \"http://localhost:8081/api/v1\"\n",
    "annotator_host = \"http://localhost:8080/api/v1\""
   ]
  },
  {
   "cell_type": "code",
   "execution_count": null,
   "id": "83e042e3",
   "metadata": {},
   "outputs": [],
   "source": [
    "datasets = client.list_datasets(host=data_node_host)\n",
    "\n",
    "for dataset in datasets:\n",
    "      print(dataset)"
   ]
  },
  {
   "cell_type": "code",
   "execution_count": 4,
   "id": "901647c3",
   "metadata": {},
   "outputs": [],
   "source": [
    "# select dataset for tests\n",
    "DATA= \"i2b2-test-dataset\"\n",
    "ANNOTATION = \"goldstandard\"\n",
    "STORE = \"evaluation\"\n",
    "ANNO_TYPES = [\"textDateAnnotations\", \"textPersonNameAnnotations\",\"textLocationAnnotations\",\n",
    "              \"textIdAnnotations\",\"textContactAnnotations\",\"textCovidSymptomAnnotations\"]\n",
    "TYPE_DICT = {\"textDateAnnotations\":\"date\", \"textPersonNameAnnotations\":\"person\",\"textLocationAnnotations\":\"location\",\n",
    "              \"textIdAnnotations\":\"id\",\"textContactAnnotations\":\"contact\",\"textCovidSymptomAnnotations\":\"covid\"}\n",
    "\n",
    "ANNO_TYPES = [\"textCovidSymptomAnnotations\"]\n",
    "TYPE_DICT = {\"textCovidSymptomAnnotations\":\"covid\"}"
   ]
  },
  {
   "cell_type": "code",
   "execution_count": 5,
   "id": "8300650b",
   "metadata": {},
   "outputs": [],
   "source": [
    "# check if there are annotation duplicates in goldstandards"
   ]
  },
  {
   "cell_type": "code",
   "execution_count": 6,
   "id": "9b243d5c",
   "metadata": {},
   "outputs": [
    {
     "name": "stdout",
     "output_type": "stream",
     "text": [
      "Test 1 passed on i2b2-test-dataset, no annotation duplicates\n"
     ]
    }
   ],
   "source": [
    "# need to reload the annotation due to the sandboxclient setting\n",
    "dataset_id = DATA\n",
    "annotation_store_id = ANNOTATION\n",
    "gs_annos = client.list_annotations(host=data_node_host,\n",
    "                                   dataset_id=dataset_id,\n",
    "                                   annotation_store_id=annotation_store_id)\n",
    "count_dict = {\"person\":0, \"date\":0,\"contact\":0, \"id\":0,\"location\":0, \"covid\":0}\n",
    "\n",
    "for gs in gs_annos:\n",
    "    for typ in ANNO_TYPES:\n",
    "        next_start_position = -1\n",
    "        same_start_position = -1\n",
    "        for i in sorted(gs[typ], key=lambda x: x['start']):\n",
    "            if i[\"start\"] == same_start_position:\n",
    "                count_dict[TYPE_DICT[typ]] = count_dict[TYPE_DICT[typ]] + 1\n",
    "                # uncomment this to see the wrong annotations\n",
    "                \n",
    "                print(prev, \"\\n\")\n",
    "                print(i, \"\\n\")\n",
    "                print(gs[\"name\"],\"\\n\")\n",
    "                print(\"\\n\")\n",
    "                \n",
    "            prev = i\n",
    "            same_start_position = i[\"start\"]\n",
    "if sum(count_dict.values()) == 0:\n",
    "    print(f\"Test 1 passed on {DATA}, no annotation duplicates\")\n",
    "else:\n",
    "    print(f\"Test 1 failed on {DATA}! Number of duplicated annotations(annotation at the same location): \" + str(sum(count_dict.values())))\n",
    "    print(count_dict)\n",
    "    \n",
    "\n",
    "    "
   ]
  },
  {
   "cell_type": "code",
   "execution_count": 17,
   "id": "7759d9c8",
   "metadata": {},
   "outputs": [],
   "source": [
    "# check if there are cases when instances are split into pieces. \n",
    "# e.g. \"Dan Smiths\" should be one annotation, it's a data quality issue if the \"Dan Smiths\" is treated as two\n",
    "# annotations \"Dan\" and \"Smiths\""
   ]
  },
  {
   "cell_type": "code",
   "execution_count": 9,
   "id": "6cc2d447-2910-465c-871d-52f4e160132b",
   "metadata": {},
   "outputs": [],
   "source": [
    "notes = client.list_notes(host=data_node_host,\n",
    "                  dataset_id=DATA,\n",
    "                  fhir_store_id=STORE)"
   ]
  },
  {
   "cell_type": "code",
   "execution_count": 10,
   "id": "0a4d5127",
   "metadata": {},
   "outputs": [
    {
     "name": "stdout",
     "output_type": "stream",
     "text": [
      "Test 2 passed on mayo-covid-dataset, no split annotation\n"
     ]
    }
   ],
   "source": [
    "# select dataset for tests\n",
    "\n",
    "gs_annos = client.list_annotations(host=data_node_host,\n",
    "                                   dataset_id=DATA,\n",
    "                                   annotation_store_id=ANNOTATION)\n",
    "notes = client.list_notes(host=data_node_host,\n",
    "                  dataset_id=DATA,\n",
    "                  fhir_store_id=STORE)\n",
    "count_dict = {\"person\":0, \"date\":0,\"contact\":0, \"id\":0,\"location\":0, \"covid\":0}\n",
    "for note, gs in zip(notes, gs_annos):\n",
    "    \n",
    "    for typ in [\"textPersonNameAnnotations\"]:\n",
    "        next_start_position = -1\n",
    "        same_start_position = -1\n",
    "        for i in sorted(gs[typ], key=lambda x: x['start']):\n",
    "            # if i[\"start\"] == next_start_position and next_start_position-1 >=0 and note[\"text\"][next_start_position-1]  == \" \" :\n",
    "            if i[\"start\"] <= next_start_position:    \n",
    "                if (typ == \"textLocationAnnotations\" and i[\"locationType\"] == prev[\"locationType\"]) or \\\n",
    "                (typ == \"textContactAnnotations\" and i[\"contactType\"] == prev[\"contactType\"]) or \\\n",
    "                (typ == \"textIdAnnotations\" and i[\"idType\"] == prev[\"idType\"]) or \\\n",
    "                typ == \"textPersonNameAnnotations\"or \\\n",
    "                typ == \"textDateAnnotations\":\n",
    "                # uncomment this to see the wrong annotations\n",
    "                    \n",
    "                    print(prev, \"\\n\")\n",
    "                    print(i, \"\\n\")\n",
    "                    print(gs[\"name\"],\"\\n\")\n",
    "                    print(\"\\n\")\n",
    "                    #print(note['text'])\n",
    "                    #if note['text'][(i[\"start\"]+i[\"length\"])] == \" \":\n",
    "                        #print(\"yes\")\n",
    "                    #print(note['text'][(i[\"start\"]-20):i[\"start\"]+20])\n",
    "                    #print(\"\\n\")\n",
    "                    count_dict[TYPE_DICT[typ]] = count_dict[TYPE_DICT[typ]] + 1\n",
    "            prev = i\n",
    "            next_start_position = i[\"start\"]+i[\"length\"]+1\n",
    "            \n",
    "if sum(count_dict.values()) == 0:\n",
    "    print(f\"Test 2 passed on {DATA}, no split annotation\")\n",
    "else:\n",
    "    print(f\"Test 2 failed on {DATA}! Number of split annotations(one annotation split into multiple pieces): \" + str(sum(count_dict.values())))\n",
    "    print(count_dict)\n",
    "\n",
    "    "
   ]
  },
  {
   "cell_type": "code",
   "execution_count": 20,
   "id": "85a45e4c",
   "metadata": {},
   "outputs": [],
   "source": [
    "# check if there are annotations that overlap each other."
   ]
  },
  {
   "cell_type": "code",
   "execution_count": 11,
   "id": "e97bf585",
   "metadata": {},
   "outputs": [
    {
     "name": "stdout",
     "output_type": "stream",
     "text": [
      "Test 3 passed on mayo-covid-dataset, no overlapping annotation\n"
     ]
    }
   ],
   "source": [
    "# select dataset for tests\n",
    "dataset_id = DATA\n",
    "annotation_store_id = ANNOTATION\n",
    "gs_annos = client.list_annotations(host=data_node_host,\n",
    "                                   dataset_id=DATA,\n",
    "                                   annotation_store_id=ANNOTATION)\n",
    "\n",
    "count_dict = {\"person\":0, \"date\":0,\"contact\":0, \"id\":0,\"location\":0, \"covid\":0}\n",
    "for gs in gs_annos:\n",
    "    for typ in ANNO_TYPES:\n",
    "        next_start_position = -1\n",
    "        same_start_position = -1\n",
    "        for i in sorted(gs[typ], key=lambda x: x['start']):\n",
    "            if i[\"start\"] < next_start_position and i[\"start\"] > same_start_position :\n",
    "                # uncomment this to see the wrong annotations\n",
    "                '''\n",
    "                print(prev, \"\\n\")\n",
    "                print(i, \"\\n\")\n",
    "                print(gs[\"name\"],\"\\n\")\n",
    "                print(\"\\n\")\n",
    "                '''\n",
    "                count_dict[TYPE_DICT[typ]] = count_dict[TYPE_DICT[typ]] + 1\n",
    "            prev = i\n",
    "            next_start_position = i[\"start\"]+i[\"length\"]+1\n",
    "            same_start_position = i[\"start\"]\n",
    "if sum(count_dict.values()) == 0:\n",
    "    print(f\"Test 3 passed on {DATA}, no overlapping annotation\")\n",
    "else:\n",
    "    print(f\"Test 3 failed on {DATA}! Number of overlapping annotations: \" + str(sum(count_dict.values())))\n",
    "    print(count_dict)\n",
    "    "
   ]
  },
  {
   "cell_type": "code",
   "execution_count": 12,
   "id": "61f85999",
   "metadata": {},
   "outputs": [
    {
     "data": {
      "text/plain": [
       "['textCovidSymptomAnnotations']"
      ]
     },
     "execution_count": 12,
     "metadata": {},
     "output_type": "execute_result"
    }
   ],
   "source": [
    "ANNO_TYPES"
   ]
  },
  {
   "cell_type": "code",
   "execution_count": null,
   "id": "ebd9e41f",
   "metadata": {},
   "outputs": [],
   "source": [
    "prob_notes = set()\n",
    "notes = client.list_notes(host=data_node_host,\n",
    "                  dataset_id=DATA,\n",
    "                  fhir_store_id=STORE)\n",
    "\n",
    "gs_annos = client.list_annotations(host=data_node_host,\n",
    "                                   dataset_id=DATA,\n",
    "                                   annotation_store_id=ANNOTATION)\n",
    "count_dict = {\"person\":0, \"date\":0,\"contact\":0, \"id\":0,\"location\":0, \"covid\":0}\n",
    "for note, gs in zip(notes, gs_annos):\n",
    "    # check if note_id matches\n",
    "    if gs[\"name\"].split(\"/\")[-1] != note[\"identifier\"]:\n",
    "        raise Exception(\"annotation content doesn't match the text\")\n",
    "    for typ in ANNO_TYPES:\n",
    "        for i in sorted(gs[typ], key=lambda x: x['start']):\n",
    "            start = i[\"start\"]\n",
    "            end = i[\"start\"]+i[\"length\"]\n",
    "            text = i[\"text\"]\n",
    "            ori_text = note[\"text\"][start:end]\n",
    "            # this is for uw\n",
    "            #ori_text = note[\"text\"].replace('\\n', '\\r\\n')[start:end]\n",
    "            if text != ori_text:\n",
    "                # uncomment this to see the wrong cases\n",
    "                \n",
    "                print(\"text in annotations: \",text)\n",
    "                print(\"real text: \",ori_text)\n",
    "                print(\"start position: \",start)\n",
    "                #print(i[\"length\"])\n",
    "                #print(len(text),len(ori_text))\n",
    "                print(\"noteId\", note[\"identifier\"])\n",
    "                print( \"\\n\")\n",
    "                \n",
    "                prob_notes.add(note[\"identifier\"][:-3])\n",
    "                count_dict[TYPE_DICT[typ]] = count_dict[TYPE_DICT[typ]] + 1\n",
    "if sum(count_dict.values()) == 0:\n",
    "    print(f\"Test 4 passed on {DATA}, Annotations match the true text\")\n",
    "else:\n",
    "    print(f\"Test 4 failed on {DATA}! Number of annotations that don't match the true text: \" + str(sum(count_dict.values())))\n",
    "    print(count_dict)\n",
    "    \n",
    "    "
   ]
  },
  {
   "cell_type": "code",
   "execution_count": null,
   "id": "cc50f2cf",
   "metadata": {},
   "outputs": [],
   "source": [
    "## COVID SYMPTOM CHECK\n",
    "dataset_id = DATA\n",
    "annotation_store_id = ANNOTATION\n",
    "gs_annos = client.list_annotations(host=data_node_host,\n",
    "                                   dataset_id=dataset_id,\n",
    "                                   annotation_store_id=annotation_store_id)\n",
    "\n",
    "condition_set = set()\n",
    "ANNO_TYPES\n",
    "for gs in gs_annos:\n",
    "    for typ in ANNO_TYPES:\n",
    "        for i in gs['textCovidSymptomAnnotations']:\n",
    "            print(i[\"text\"])\n",
    "            condition_set.add(i[\"condition\"])\n",
    "        #print(typ)"
   ]
  },
  {
   "cell_type": "code",
   "execution_count": null,
   "id": "4f1ce80f",
   "metadata": {},
   "outputs": [],
   "source": [
    "DATA= \"i2b2-test-dataset\"\n",
    "ANNOTATION = \"goldstandard\"\n",
    "STORE = \"evaluation\"\n",
    "ANNO_TYPES = [\"textDateAnnotations\", \"textPersonNameAnnotations\",\"textLocationAnnotations\",\n",
    "              \"textIdAnnotations\",\"textContactAnnotations\",\"textCovidSymptomAnnotations\"]\n",
    "\n",
    "ANNO_TYPES = [\"textIdAnnotations\"]\n",
    "TYPE_DICT = {\"textDateAnnotations\":\"date\", \"textPersonNameAnnotations\":\"person\",\"textLocationAnnotations\":\"location\",\n",
    "              \"textIdAnnotations\":\"id\",\"textContactAnnotations\":\"contact\",\"textCovidSymptomAnnotations\":\"covid\"}\n",
    "dataset_id = DATA\n",
    "annotation_store_id = ANNOTATION\n",
    "gs_annos = client.list_annotations(host=data_node_host,\n",
    "                                   dataset_id=DATA,\n",
    "                                   annotation_store_id=ANNOTATION)\n",
    "\n",
    "count_dict = {\"person\":0, \"date\":0,\"contact\":0, \"id\":0,\"location\":0, \"covid\":0}\n",
    "for gs in gs_annos:\n",
    "    for typ in ANNO_TYPES:\n",
    "        print(gs['name'][-6:])\n",
    "        for i in sorted(gs[typ], key=lambda x: x['start']):\n",
    "            print(i)\n"
   ]
  }
 ],
 "metadata": {
  "kernelspec": {
   "display_name": "Python 3 (ipykernel)",
   "language": "python",
   "name": "python3"
  },
  "language_info": {
   "codemirror_mode": {
    "name": "ipython",
    "version": 3
   },
   "file_extension": ".py",
   "mimetype": "text/x-python",
   "name": "python",
   "nbconvert_exporter": "python",
   "pygments_lexer": "ipython3",
   "version": "3.8.11"
  }
 },
 "nbformat": 4,
 "nbformat_minor": 5
}
