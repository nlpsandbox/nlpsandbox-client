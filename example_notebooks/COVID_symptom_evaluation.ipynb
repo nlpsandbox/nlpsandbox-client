{
 "cells": [
  {
   "cell_type": "code",
   "execution_count": 20,
   "id": "aabf8096",
   "metadata": {},
   "outputs": [],
   "source": [
    "from nlpsandboxclient import client\n",
    "from copy import deepcopy"
   ]
  },
  {
   "cell_type": "code",
   "execution_count": 21,
   "id": "2012df56",
   "metadata": {},
   "outputs": [],
   "source": [
    "DATA_HOST = \"http://localhost:8081/api/v1\"\n",
    "ANNO_HOST = \"http://localhost:8080/api/v1\"\n",
    "ANNOTATION_STORE = 'covid'\n",
    "DATASET_NAME = 'mayo-covid-dataset'\n"
   ]
  },
  {
   "cell_type": "code",
   "execution_count": null,
   "id": "7302c75f",
   "metadata": {},
   "outputs": [],
   "source": [
    "datasets = client.list_datasets(host=DATA_HOST)\n",
    "\n",
    "for dataset in datasets:\n",
    "      print(dataset)"
   ]
  },
  {
   "cell_type": "code",
   "execution_count": null,
   "id": "797ee900",
   "metadata": {},
   "outputs": [],
   "source": [
    "example_note = {\n",
    "   \"identifier\": \"note-3\",\n",
    "   \"type\": \"loinc:LP29684-5\",\n",
    "   \"patientId\": \"507f1f77bcf86cd799439111\",\n",
    "   \"text\": \"On 12/26/2020, Jake Li Kg, Mr.L coughed, Ms. Chloe Price met with 232323 Dr. Prescott id is 32243 in Seattle, WA, 206-434-3545, 343-2423343, 754-33-2343, jake@email.com, l232,1232 , Thai, wong, Linda, at Seattle, WA, hospital.\"\n",
    "}\n",
    "\n",
    "annotations = client.annotate_note(host=ANNO_HOST,\n",
    "                            note=example_note,\n",
    "                            tool_type=\"nlpsandbox:covid-symptom-annotator\")\n",
    "\n",
    "print(annotations)\n",
    "\n"
   ]
  },
  {
   "cell_type": "code",
   "execution_count": null,
   "id": "5d6dacbb",
   "metadata": {},
   "outputs": [],
   "source": [
    "# option1 : annotate only 1 PHI category. In this example, date is annotated\n",
    "type = 'covid-symptom'\n",
    "types = [\"covid-symptom\"]\n",
    "type_dict = {\"covid-symptom\":\"textCovidSymptomAnnotations\"}\n",
    "notes = client.list_notes(host=DATA_HOST,\n",
    "                  dataset_id=DATASET_NAME,\n",
    "                  fhir_store_id=\"evaluation\")\n",
    "\n",
    "test_notes = list(notes)\n",
    "print(len(test_notes))\n",
    "\n",
    "annotation_list = []\n",
    "converted_annotation_list = []\n",
    "for i in test_notes:\n",
    "    note_name= i.pop('note_name', None)\n",
    "    note_id = note_name[-6:]\n",
    "    print(note_id)\n",
    "    # There is an error in annotation generated from  client.annotate_note, the note_name is \"dataset/..\"  but it should be \"datasets/..\"\n",
    "    note_name = \"datasets\"+note_name[7:]\n",
    "    converted_annotation = {\"annotationSource\":{\"resourceSource\":{\"name\":note_name}},\"textContactAnnotations\": [], \"textCovidSymptomAnnotations\":[],\"textDateAnnotations\":[],\"textIdAnnotations\":[],\"textLocationAnnotations\": [],\"textPersonNameAnnotations\": []}\n",
    "    import time\n",
    "    time.sleep(1)\n",
    "    \n",
    "    \n",
    "    annotations = client.annotate_note(host=ANNO_HOST,\n",
    "                            note=i,\n",
    "                            tool_type=f\"nlpsandbox:{type}-annotator\")\n",
    "    # original idType is other but it's not accepted, a quick fix to change 'other' \n",
    "\n",
    "    #for annotation in annotations[\"textIdAnnotations\"]:\n",
    "        #annotation['idType'] = 'account'\n",
    "    #print(annotations[type_dict[type]])\n",
    "    converted_annotation[type_dict[type]] = annotations[type_dict[type]]\n",
    "    converted_annotation_list.append(converted_annotation)\n",
    "    "
   ]
  },
  {
   "cell_type": "code",
   "execution_count": null,
   "id": "449870fd",
   "metadata": {},
   "outputs": [],
   "source": [
    "client.store_annotations(host=DATA_HOST,\n",
    "                 dataset_id=DATASET_NAME,\n",
    "                 annotation_store_id=ANNOTATION_STORE,\n",
    "                 annotations=converted_annotation_list,\n",
    "                 delete_existing_annotations = True)\n"
   ]
  },
  {
   "cell_type": "code",
   "execution_count": null,
   "id": "07b95706",
   "metadata": {},
   "outputs": [],
   "source": [
    "client.evaluate(host=\"http://localhost:8081/api/v1\",\n",
    "               dataset_id=DATASET_NAME,\n",
    "               annotation_store_id=ANNOTATION_STORE,\n",
    "               tool_type='nlpsandbox:covid-symptom-annotator')"
   ]
  },
  {
   "cell_type": "code",
   "execution_count": null,
   "id": "40fbe340",
   "metadata": {},
   "outputs": [],
   "source": [
    "client.evaluate(host=DATA_HOST,\n",
    "               dataset_id=DATASET_NAME,\n",
    "               annotation_store_id=ANNOTATION_STORE,\n",
    "               tool_type='nlpsandbox:covid-symptom-annotator')"
   ]
  },
  {
   "cell_type": "code",
   "execution_count": null,
   "id": "f93e32e7",
   "metadata": {},
   "outputs": [],
   "source": [
    "gold = client.list_annotations(host=DATA_HOST,\n",
    "                  dataset_id=DATASET_NAME,\n",
    "                  annotation_store_id=\"goldstandard\")\n",
    "gold = list(gold)\n",
    "for i in gold:\n",
    "    print(i[\"textCovidSymptomAnnotations\"])"
   ]
  }
 ],
 "metadata": {
  "kernelspec": {
   "display_name": "Python 3 (ipykernel)",
   "language": "python",
   "name": "python3"
  },
  "language_info": {
   "codemirror_mode": {
    "name": "ipython",
    "version": 3
   },
   "file_extension": ".py",
   "mimetype": "text/x-python",
   "name": "python",
   "nbconvert_exporter": "python",
   "pygments_lexer": "ipython3",
   "version": "3.8.11"
  }
 },
 "nbformat": 4,
 "nbformat_minor": 5
}
