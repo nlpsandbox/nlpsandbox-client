{
 "cells": [
  {
   "cell_type": "code",
   "execution_count": 1,
   "id": "1c0baa14",
   "metadata": {},
   "outputs": [],
   "source": [
    "from nlpsandboxclient import client\n",
    "from copy import deepcopy"
   ]
  },
  {
   "cell_type": "code",
   "execution_count": 38,
   "id": "b0d16d3c",
   "metadata": {},
   "outputs": [],
   "source": [
    "DATA_HOST = \"http://localhost:8081/api/v1\"\n",
    "ANNO_HOST = \"http://localhost:8080/api/v1\"\n",
    "ANNOTATION_STORE = 'neuroner'\n",
    "DATASET_NAME = 'mayo-test-dataset'\n"
   ]
  },
  {
   "cell_type": "code",
   "execution_count": null,
   "id": "babd961d",
   "metadata": {},
   "outputs": [],
   "source": [
    "datasets = client.list_datasets(host=DATA_HOST)\n",
    "\n",
    "for dataset in datasets:\n",
    "      print(dataset)"
   ]
  },
  {
   "cell_type": "code",
   "execution_count": null,
   "id": "60dad64c",
   "metadata": {},
   "outputs": [],
   "source": [
    "example_note = {\n",
    "   \"identifier\": \"note-3\",\n",
    "   \"type\": \"loinc:LP29684-5\",\n",
    "   \"patientId\": \"507f1f77bcf86cd799439111\",\n",
    "   \"text\": \"On 12/26/2020, Jake Li Kg, Mr. Rof, david@uw.edu, sda@gmail.com, Ms. Chloe Price met with 232323 Dr. Prescott id is 32243 in Seattle, WA, 206-434-3545, 343-2423343, 754-33-2343, jake@email.com, l232,1232 , Thai, wong, Linda, at Seattle, WA, hospital.\"\n",
    "}\n",
    "\n",
    "annotations = client.annotate_note(host=ANNO_HOST,\n",
    "                            note=example_note,\n",
    "                            tool_type=\"nlpsandbox:contact-annotator\")\n",
    "\n",
    "print(annotations)\n",
    "\n"
   ]
  },
  {
   "cell_type": "code",
   "execution_count": 22,
   "id": "f7587ec9",
   "metadata": {},
   "outputs": [],
   "source": [
    "types = [\"date\",\"location\",\"id\",\"contact\",\"person-name\"]\n",
    "type_dict = {\"date\":\"textDateAnnotations\", \n",
    "             \"person-name\":\"textPersonNameAnnotations\",\n",
    "             \"location\":\"textLocationAnnotations\",\n",
    "             \"id\":\"textIdAnnotations\",\n",
    "             \"contact\":\"textContactAnnotations\"}"
   ]
  },
  {
   "cell_type": "markdown",
   "id": "b3537d07",
   "metadata": {},
   "source": [
    "# Option 1"
   ]
  },
  {
   "cell_type": "code",
   "execution_count": null,
   "id": "89da2ccc",
   "metadata": {},
   "outputs": [],
   "source": [
    "# option1 : annotate only 1 PHI category. In this example, date is annotated\n",
    "type = 'location'\n",
    "notes = client.list_notes(host=DATA_HOST,\n",
    "                  dataset_id=DATASET_NAME,\n",
    "                  fhir_store_id=\"evaluation\")\n",
    "\n",
    "test_notes = list(notes)\n",
    "print(len(test_notes))\n",
    "\n",
    "annotation_list = []\n",
    "converted_annotation_list = []\n",
    "for i in test_notes:\n",
    "    note_name= i.pop('note_name', None)\n",
    "    note_id = note_name[-6:]\n",
    "    print(note_id)\n",
    "    # There is an error in annotation generated from  client.annotate_note, the note_name is \"dataset/..\"  but it should be \"datasets/..\"\n",
    "    note_name = \"datasets\"+note_name[7:]\n",
    "    converted_annotation = {\"annotationSource\":{\"resourceSource\":{\"name\":note_name}},\"textContactAnnotations\": [], \"textCovidSymptomAnnotations\":[],\"textDateAnnotations\":[],\"textIdAnnotations\":[],\"textLocationAnnotations\": [],\"textPersonNameAnnotations\": []}\n",
    "    import time\n",
    "    time.sleep(1)\n",
    "    \n",
    "    \n",
    "    annotations = client.annotate_note(host=ANNO_HOST,\n",
    "                            note=i,\n",
    "                            tool_type=f\"nlpsandbox:{type}-annotator\")\n",
    "    # original idType is other but it's not accepted, a quick fix to change 'other' \n",
    "\n",
    "    #for annotation in annotations[\"textIdAnnotations\"]:\n",
    "        #annotation['idType'] = 'account'\n",
    "    #print(annotations[type_dict[type]])\n",
    "    converted_annotation[type_dict[type]] = annotations[type_dict[type]]\n",
    "    converted_annotation_list.append(converted_annotation)\n",
    "    "
   ]
  },
  {
   "cell_type": "code",
   "execution_count": null,
   "id": "69989111",
   "metadata": {},
   "outputs": [],
   "source": [
    "len(converted_annotation_list)\n"
   ]
  },
  {
   "cell_type": "code",
   "execution_count": null,
   "id": "0abf7fc1",
   "metadata": {},
   "outputs": [],
   "source": [
    "client.store_annotations(host=DATA_HOST,\n",
    "                 dataset_id=DATASET_NAME,\n",
    "                 annotation_store_id=ANNOTATION_STORE,\n",
    "                 annotations=converted_annotation_list,\n",
    "                 delete_existing_annotations = True)\n"
   ]
  },
  {
   "cell_type": "code",
   "execution_count": null,
   "id": "878f0534",
   "metadata": {},
   "outputs": [],
   "source": [
    "client.evaluate(host=DATA_HOST,\n",
    "               dataset_id=DATASET_NAME,\n",
    "               annotation_store_id=ANNOTATION_STORE,\n",
    "               tool_type=\"nlpsandbox:contact-annotator\")"
   ]
  },
  {
   "cell_type": "code",
   "execution_count": 33,
   "id": "92920a10",
   "metadata": {},
   "outputs": [],
   "source": [
    "####cross-check the prediction and the goldstandard#####\n",
    "\n",
    "annos = client.list_annotations(host=DATA_HOST,\n",
    "                 dataset_id=DATASET_NAME,\n",
    "                 annotation_store_id=\"goldstandard\")\n",
    "anno_list=list(annos)\n"
   ]
  },
  {
   "cell_type": "code",
   "execution_count": 81,
   "id": "73f2c036",
   "metadata": {},
   "outputs": [],
   "source": [
    "\n",
    "note_ob = client.list_notes(host=DATA_HOST,\n",
    "                  dataset_id=DATASET_NAME,\n",
    "                  fhir_store_id=\"evaluation\")\n",
    "notes = list(note_ob)\n",
    "def get_note(notes,id):\n",
    "    return notes[RANDOM_NOTE_ID][\"text\"]\n"
   ]
  },
  {
   "cell_type": "code",
   "execution_count": null,
   "id": "8bf53f2b",
   "metadata": {},
   "outputs": [],
   "source": [
    "format_map = {\"date\":\"dateFormat\",\"location\":\"locationType\",\"id\":\"idType\",\"contact\":\"contactType\"}\n",
    "#types = [\"date\",\"location\",\"id\",\"contact\",\"person-name\"]\n",
    "types = [\"id\"]\n",
    "for type in types:\n",
    "    with open(f\"mismatch_fp_{type}.txt\",\"w\") as f:\n",
    "        for RANDOM_NOTE_ID in range(0, len(anno_list)):\n",
    "            gold = deepcopy(anno_list)[RANDOM_NOTE_ID][type_dict[type]]\n",
    "            pred = deepcopy(converted_annotation_list)[RANDOM_NOTE_ID][type_dict[type]]\n",
    "\n",
    "            print(f\"note_id: {deepcopy(converted_annotation_list)[RANDOM_NOTE_ID]['annotationSource']['resourceSource']['name']}\")\n",
    "            for i in pred:\n",
    "                if type in format_map.keys():\n",
    "                    i.pop(format_map[type],\"confidence\")\n",
    "                    i.pop(\"confidence\")\n",
    "            for i in gold:\n",
    "                if type in format_map.keys():\n",
    "                    i.pop(format_map[type])\n",
    "                    i.pop(\"confidence\")\n",
    "            print(\"-----gold------\")\n",
    "            print(gold)\n",
    "            print(\"-----pred------\")\n",
    "            print(pred)\n",
    "            print(\"---------------\")\n",
    " \n",
    "            for i in pred:\n",
    "                if i not in gold:\n",
    "                    f.write(str(i))\n",
    "                    f.write(str(get_note(notes,RANDOM_NOTE_ID)[i[\"start\"]-20:i[\"start\"]+i[\"length\"]+20]))\n",
    "                    f.write(\"\\n\")\n",
    "                    print(\"**********\")\n",
    "                    print(i)\n",
    "                    print(\"**********\")\n",
    "                    #print(\"original ----\")\n",
    "                    #print(get_note(notes,RANDOM_NOTE_ID)[i[\"start\"]:i[\"start\"]+i[\"length\"]])\n",
    "                    #print(\"\\n\")\n",
    "            '''\n",
    "            for i in gold:\n",
    "                if i not in pred:\n",
    "                    f.write(str(i))\n",
    "                    \n",
    "                    print(i)\n",
    "                    print(\"original ----\")\n",
    "                    #f.write(str(get_note(notes,RANDOM_NOTE_ID)[i[\"start\"]-20:i[\"start\"]+i[\"length\"]+20]))\n",
    "                    print(get_note(notes,RANDOM_NOTE_ID)[i[\"start\"]:i[\"start\"]+i[\"length\"]])\n",
    "                    print(\"\\n\")\n",
    "                    f.write(\"\\n\")\n",
    "            '''  \n",
    "    #print(gold)\n",
    "    #print(\"\\n\")\n",
    "    #print(pred)\n",
    "f.close()\n",
    "########################################################"
   ]
  },
  {
   "cell_type": "markdown",
   "id": "84dea6fe",
   "metadata": {},
   "source": [
    "# Option 2"
   ]
  },
  {
   "cell_type": "code",
   "execution_count": 41,
   "id": "0b501d12",
   "metadata": {},
   "outputs": [],
   "source": [
    "# option 2: annotate all 5 PHI categories.\n",
    "#types = [\"person-name\",\"date\",\"location\",\"id\",\"contact\"]\n",
    "types = [\"person-name\",\"date\"]\n",
    "notes = client.list_notes(host=DATA_HOST,\n",
    "              dataset_id=DATASET_NAME,\n",
    "              fhir_store_id=\"evaluation\")\n",
    "test_notes = list(notes)\n",
    "annotation_list = []\n",
    "converted_annotation_list = []\n",
    "for i in test_notes:\n",
    "    note_name= i.pop('note_name', None)\n",
    "    note_id = note_name[-6:]\n",
    "    # There is an error in annotation generated from  client.annotate_note, the note_name is \"dataset/..\"  but it should be \"datasets/..\"\n",
    "    note_name = \"datasets\"+note_name[7:]\n",
    "    converted_annotation = {\"annotationSource\":{\"resourceSource\":{\"name\":note_name}},\"textContactAnnotations\": [], \"textCovidSymptomAnnotations\":[],\"textDateAnnotations\":[],\"textIdAnnotations\":[],\"textLocationAnnotations\": [],\"textPersonNameAnnotations\": []}\n",
    "    for type in types:\n",
    "        annotations = client.annotate_note(host=ANNO_HOST,\n",
    "                                note=i,\n",
    "                                tool_type=f\"nlpsandbox:{type}-annotator\")\n",
    "        converted_annotation[type_dict[type]] = annotations[type_dict[type]]\n",
    "    converted_annotation_list.append(converted_annotation)"
   ]
  },
  {
   "cell_type": "code",
   "execution_count": null,
   "id": "3df09bcc",
   "metadata": {},
   "outputs": [],
   "source": [
    "client.store_annotations(host=DATA_HOST,\n",
    "                 dataset_id=DATASET_NAME,\n",
    "                 annotation_store_id=ANNOTATION_STORE,\n",
    "                 annotations=converted_annotation_list,\n",
    "                 delete_existing_annotations = True)"
   ]
  },
  {
   "cell_type": "code",
   "execution_count": null,
   "id": "4bf1aa80",
   "metadata": {},
   "outputs": [],
   "source": [
    "print(f\"dataset: {DATASET_NAME}\")\n",
    "print(f\"annotation store: {ANNOTATION_STORE}\")"
   ]
  },
  {
   "cell_type": "code",
   "execution_count": null,
   "id": "b96fdc9b",
   "metadata": {},
   "outputs": [],
   "source": [
    "for type in types:\n",
    "    print(\"*\"*40 + type + \"*\"*40)\n",
    "    client.evaluate(host=DATA_HOST,\n",
    "                                   dataset_id=DATASET_NAME,\n",
    "                                   annotation_store_id=ANNOTATION_STORE,\n",
    "                                   tool_type=f\"nlpsandbox:{type}-annotator\")"
   ]
  },
  {
   "cell_type": "code",
   "execution_count": 18,
   "id": "c1dfdd4a",
   "metadata": {},
   "outputs": [],
   "source": [
    "# list annotation\n",
    "gold = client.list_annotations(host=DATA_HOST,\n",
    "                  dataset_id=DATASET_NAME,\n",
    "                  annotation_store_id=\"goldstandard\")\n",
    "gold = list(gold)"
   ]
  }
 ],
 "metadata": {
  "kernelspec": {
   "display_name": "Python 3 (ipykernel)",
   "language": "python",
   "name": "python3"
  },
  "language_info": {
   "codemirror_mode": {
    "name": "ipython",
    "version": 3
   },
   "file_extension": ".py",
   "mimetype": "text/x-python",
   "name": "python",
   "nbconvert_exporter": "python",
   "pygments_lexer": "ipython3",
   "version": "3.8.11"
  }
 },
 "nbformat": 4,
 "nbformat_minor": 5
}
